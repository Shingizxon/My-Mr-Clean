{
 "cells": [
  {
   "cell_type": "code",
   "execution_count": 138,
   "id": "3bb73246",
   "metadata": {},
   "outputs": [
    {
     "name": "stdout",
     "output_type": "stream",
     "text": [
      "Requirement already satisfied: nltk in /home/docode/.pyenv/versions/3.6.7/lib/python3.6/site-packages (3.6.7)\n",
      "Requirement already satisfied: joblib in /home/docode/.pyenv/versions/3.6.7/lib/python3.6/site-packages (from nltk) (1.1.0)\n",
      "Requirement already satisfied: click in /home/docode/.pyenv/versions/3.6.7/lib/python3.6/site-packages (from nltk) (8.0.4)\n",
      "Requirement already satisfied: tqdm in /home/docode/.pyenv/versions/3.6.7/lib/python3.6/site-packages (from nltk) (4.64.0)\n",
      "Requirement already satisfied: regex>=2021.8.3 in /home/docode/.pyenv/versions/3.6.7/lib/python3.6/site-packages (from nltk) (2022.7.9)\n",
      "Requirement already satisfied: importlib-metadata in /home/docode/.pyenv/versions/3.6.7/lib/python3.6/site-packages (from click->nltk) (4.8.3)\n",
      "Requirement already satisfied: importlib-resources in /home/docode/.pyenv/versions/3.6.7/lib/python3.6/site-packages (from tqdm->nltk) (5.4.0)\n",
      "Requirement already satisfied: typing-extensions>=3.6.4 in /home/docode/.pyenv/versions/3.6.7/lib/python3.6/site-packages (from importlib-metadata->click->nltk) (4.1.1)\n",
      "Requirement already satisfied: zipp>=0.5 in /home/docode/.pyenv/versions/3.6.7/lib/python3.6/site-packages (from importlib-metadata->click->nltk) (3.6.0)\n",
      "Requirement already satisfied: seaborn in /home/docode/.pyenv/versions/3.6.7/lib/python3.6/site-packages (0.11.2)\n",
      "Requirement already satisfied: matplotlib>=2.2 in /home/docode/.pyenv/versions/3.6.7/lib/python3.6/site-packages (from seaborn) (3.3.4)\n",
      "Requirement already satisfied: numpy>=1.15 in /home/docode/.pyenv/versions/3.6.7/lib/python3.6/site-packages (from seaborn) (1.19.5)\n",
      "Requirement already satisfied: scipy>=1.0 in /home/docode/.pyenv/versions/3.6.7/lib/python3.6/site-packages (from seaborn) (1.5.4)\n",
      "Requirement already satisfied: pandas>=0.23 in /home/docode/.pyenv/versions/3.6.7/lib/python3.6/site-packages (from seaborn) (1.1.5)\n",
      "Requirement already satisfied: python-dateutil>=2.1 in /home/docode/.pyenv/versions/3.6.7/lib/python3.6/site-packages (from matplotlib>=2.2->seaborn) (2.8.2)\n",
      "Requirement already satisfied: pillow>=6.2.0 in /home/docode/.pyenv/versions/3.6.7/lib/python3.6/site-packages (from matplotlib>=2.2->seaborn) (8.4.0)\n",
      "Requirement already satisfied: pyparsing!=2.0.4,!=2.1.2,!=2.1.6,>=2.0.3 in /home/docode/.pyenv/versions/3.6.7/lib/python3.6/site-packages (from matplotlib>=2.2->seaborn) (3.0.7)\n",
      "Requirement already satisfied: kiwisolver>=1.0.1 in /home/docode/.pyenv/versions/3.6.7/lib/python3.6/site-packages (from matplotlib>=2.2->seaborn) (1.3.1)\n",
      "Requirement already satisfied: cycler>=0.10 in /home/docode/.pyenv/versions/3.6.7/lib/python3.6/site-packages (from matplotlib>=2.2->seaborn) (0.11.0)\n",
      "Requirement already satisfied: pytz>=2017.2 in /home/docode/.pyenv/versions/3.6.7/lib/python3.6/site-packages (from pandas>=0.23->seaborn) (2022.1)\n",
      "Requirement already satisfied: six>=1.5 in /home/docode/.pyenv/versions/3.6.7/lib/python3.6/site-packages (from python-dateutil>=2.1->matplotlib>=2.2->seaborn) (1.16.0)\n"
     ]
    },
    {
     "name": "stderr",
     "output_type": "stream",
     "text": [
      "[nltk_data] Downloading package stopwords to /home/docode/nltk_data...\n",
      "[nltk_data]   Package stopwords is already up-to-date!\n"
     ]
    }
   ],
   "source": [
    "!pip install nltk\n",
    "!pip install seaborn\n",
    "import re\n",
    "import requests\n",
    "import string\n",
    "import nltk\n",
    "nltk.download('stopwords')\n",
    "from nltk.corpus import stopwords\n",
    "import seaborn as sns\n",
    "import matplotlib.pyplot as plt"
   ]
  },
  {
   "cell_type": "code",
   "execution_count": 139,
   "id": "01b2e347",
   "metadata": {},
   "outputs": [],
   "source": [
    "def get_content(article_name):\n",
    "    url = \"https://en.wikipedia.org/w/api.php\"\n",
    "    extract_data = requests.get(url, params = {\"action\": \"query\", \"prop\": \"extracts\", \"titles\": article_name, \"format\": \"json\"})\n",
    "    data = extract_data.json()\n",
    "    return data"
   ]
  },
  {
   "cell_type": "code",
   "execution_count": 140,
   "id": "24469df4",
   "metadata": {},
   "outputs": [],
   "source": [
    "def merge_contents(data):\n",
    "    dirty_text = data['query']['pages']['22834']['extract']\n",
    "    cleanr = re.compile('<.*?>')\n",
    "    clean_data = re.sub(cleanr, '', dirty_text)\n",
    "    return clean_data"
   ]
  },
  {
   "cell_type": "code",
   "execution_count": 141,
   "id": "7222ffd9",
   "metadata": {},
   "outputs": [],
   "source": [
    "def tokenize(content):\n",
    "    words = content.split()\n",
    "    table = str.maketrans('', '', string.punctuation)\n",
    "    raw_words = [w.translate(table) for w in words]\n",
    "    clean_words = [word.lower() for word in raw_words if word.isalpha()]\n",
    "    return clean_words"
   ]
  },
  {
   "cell_type": "code",
   "execution_count": 142,
   "id": "162ebc63",
   "metadata": {},
   "outputs": [],
   "source": [
    "def remove_stop_words(words, stop_words):\n",
    "    word_without = [i for i in words if len(i) > 2 and not i in stop_words]\n",
    "    return word_without"
   ]
  },
  {
   "cell_type": "code",
   "execution_count": 143,
   "id": "4739f09f",
   "metadata": {},
   "outputs": [],
   "source": [
    "def count_frequency(collection):\n",
    "    dict_of_words = {}\n",
    "    for i in collection:\n",
    "        dict_of_words[i] = collection.count(i)\n",
    "    result = dict(sorted(dict_of_words.items(), key=lambda x:x[1], reverse=True))\n",
    "    return result"
   ]
  },
  {
   "cell_type": "code",
   "execution_count": 144,
   "id": "8b05af4c",
   "metadata": {},
   "outputs": [],
   "source": [
    "def print_most_frequent(frequencies, n):\n",
    "    most_n_f = {k: frequencies[k] for k in list(frequencies)[:n]}\n",
    "    return most_n_f"
   ]
  },
  {
   "cell_type": "code",
   "execution_count": 145,
   "id": "bee399d2",
   "metadata": {},
   "outputs": [],
   "source": [
    "def build_graph(frequencies):\n",
    "    plt.figure(figsize=(10,10))\n",
    "    x_axis = [v for k,v in frequencies.items()]\n",
    "    y_axis = [k for k,v in frequencies.items()]\n",
    "    sns.barplot(x=x_axis[0:25], y=y_axis[0:25])\n",
    "    plt.show()"
   ]
  },
  {
   "cell_type": "code",
   "execution_count": 146,
   "id": "a84e22f0",
   "metadata": {},
   "outputs": [],
   "source": [
    "def main():\n",
    "    raw_data = get_content(\"Ozone layer\")\n",
    "    stop_words = stopwords.words(\"english\")\n",
    "    merge_content = merge_contents(raw_data)\n",
    "    collection = tokenize(merge_content)\n",
    "    filtered_collection = remove_stop_words(collection, stop_words)\n",
    "    frequencies = count_frequency(filtered_collection)\n",
    "    most_frequent = print_most_frequent(frequencies, 25)\n",
    "    build_graph(most_frequent)"
   ]
  },
  {
   "cell_type": "code",
   "execution_count": 147,
   "id": "49f0caab",
   "metadata": {},
   "outputs": [
    {
     "data": {
      "image/png": "[encoded data removed]",
      "text/plain": [
       "<Figure size 720x720 with 1 Axes>"
      ]
     },
     "metadata": {
      "needs_background": "light"
     },
     "output_type": "display_data"
    }
   ],
   "source": [
    "main()"
   ]
  }
 ],
 "metadata": {
  "kernelspec": {
   "display_name": "Python 3",
   "language": "python",
   "name": "python3"
  },
  "language_info": {
   "codemirror_mode": {
    "name": "ipython",
    "version": 3
   },
   "file_extension": ".py",
   "mimetype": "text/x-python",
   "name": "python",
   "nbconvert_exporter": "python",
   "pygments_lexer": "ipython3",
   "version": "3.6.7"
  }
 },
 "nbformat": 4,
 "nbformat_minor": 5
}
